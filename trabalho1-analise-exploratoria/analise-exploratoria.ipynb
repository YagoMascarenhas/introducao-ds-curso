{
 "cells": [
  {
   "cell_type": "markdown",
   "id": "bd4e3375",
   "metadata": {},
   "source": [
    "## Importações e entrada de dados"
   ]
  },
  {
   "cell_type": "code",
   "execution_count": 1,
   "id": "8653481a",
   "metadata": {},
   "outputs": [],
   "source": [
    "# Adicionando importações\n",
    "import pandas as pd\n",
    "import seaborn as sns\n",
    "sns.set_palette(\"flare\")"
   ]
  },
  {
   "cell_type": "code",
   "execution_count": 2,
   "id": "b7a88a4f",
   "metadata": {},
   "outputs": [
    {
     "name": "stderr",
     "output_type": "stream",
     "text": [
      "C:\\Users\\yago_\\AppData\\Local\\Temp\\ipykernel_5752\\3855269712.py:1: DtypeWarning: Columns (10) have mixed types. Specify dtype option on import or set low_memory=False.\n",
      "  dados_pre_2023 = pd.read_csv(\"arquivos/pre_2023.csv\", sep=\",\", encoding=\"utf-8\")\n"
     ]
    }
   ],
   "source": [
    "dados_pre_2023 = pd.read_csv(\"arquivos/pre_2023.csv\", sep=\",\", encoding=\"utf-8\")"
   ]
  },
  {
   "cell_type": "code",
   "execution_count": 3,
   "id": "1327f177",
   "metadata": {},
   "outputs": [],
   "source": [
    "# Juntando as tabelas de 2024\n",
    "dados_p1 = pd.read_csv(\"arquivos/01-06-2024.csv\", sep=\",\", encoding=\"utf-8\")\n",
    "dados_p2 = pd.read_csv(\"arquivos/07-09-2024.csv\", sep=\",\", encoding=\"utf-8\")\n",
    "dados_p3 = pd.read_csv(\"arquivos/10-12-2024.csv\", sep=\",\", encoding=\"utf-8\")\n",
    "dados_2024 = pd.concat([dados_p1, dados_p2, dados_p3])"
   ]
  },
  {
   "cell_type": "markdown",
   "id": "21c07918",
   "metadata": {},
   "source": [
    "## Análise inicial dos dados "
   ]
  },
  {
   "cell_type": "code",
   "execution_count": 4,
   "id": "c4b49f3e",
   "metadata": {},
   "outputs": [
    {
     "data": {
      "text/plain": [
       "mes\n",
       "1      152585\n",
       "2      156857\n",
       "3      118873\n",
       "4       49823\n",
       "5      152051\n",
       "6      353043\n",
       "7      504172\n",
       "8     2263187\n",
       "9     2568158\n",
       "10    1007697\n",
       "11     588262\n",
       "12     234136\n",
       "Name: count, dtype: int64"
      ]
     },
     "execution_count": 4,
     "metadata": {},
     "output_type": "execute_result"
    }
   ],
   "source": [
    "dados_2024.value_counts(subset=dados_2024.mes, sort=False)"
   ]
  },
  {
   "cell_type": "code",
   "execution_count": 5,
   "id": "d3b4e3eb",
   "metadata": {},
   "outputs": [
    {
     "data": {
      "text/plain": [
       "ano                             0\n",
       "mes                             0\n",
       "data_hora                       0\n",
       "bioma                           0\n",
       "sigla_uf                        0\n",
       "sigla_uf_nome                   0\n",
       "id_municipio                    0\n",
       "id_municipio_nome               0\n",
       "latitude                        0\n",
       "longitude                       0\n",
       "satelite                        0\n",
       "dias_sem_chuva             112283\n",
       "precipitacao               112283\n",
       "risco_fogo                 112283\n",
       "potencia_radiativa_fogo    338730\n",
       "dtype: int64"
      ]
     },
     "execution_count": 5,
     "metadata": {},
     "output_type": "execute_result"
    }
   ],
   "source": [
    "dados_2024 = dados_2024.dropna(subset=\"bioma\")\n",
    "dados_2024.isnull().sum()"
   ]
  },
  {
   "cell_type": "code",
   "execution_count": 6,
   "id": "840d10f3",
   "metadata": {},
   "outputs": [],
   "source": [
    "dados_pre_2023 = dados_pre_2023.dropna(subset=\"bioma\")\n",
    "analise_2023 = dados_pre_2023.isnull().sum()"
   ]
  },
  {
   "cell_type": "markdown",
   "id": "94cf64df",
   "metadata": {},
   "source": [
    "## Análise geral dos dados brutos por ano e bioma\n",
    "Os dados de 2003 até 2022 são bagunçados e poucos. A ideia é apresentar eles apenas como a noção de que existem e mostrar uma tendência (os biomas mais atingidos pelas queimadas são os mesmos em todos os anos), mas não se aprofundar na análise deles."
   ]
  },
  {
   "cell_type": "markdown",
   "id": "f05a4221",
   "metadata": {},
   "source": [
    "### 2003 - 2012"
   ]
  },
  {
   "cell_type": "code",
   "execution_count": null,
   "id": "d5d483ee",
   "metadata": {},
   "outputs": [],
   "source": [
    "intervalo_ano = range(2003, 2013)\n",
    "gplot_03_12 = sns.displot(dados_pre_2023.loc[(dados_pre_2023[\"ano\"] >= 2003) & (dados_pre_2023[\"ano\"] <= 2012)], \n",
    "            x=\"ano\",\n",
    "            bins=intervalo_ano,\n",
    "            legend=True,\n",
    "            col=\"bioma\",\n",
    "            col_wrap=3\n",
    "            )\n",
    "gplot_03_12.add_legend()"
   ]
  },
  {
   "cell_type": "markdown",
   "id": "dd48e184",
   "metadata": {},
   "source": [
    "### 2013 - 2022"
   ]
  },
  {
   "cell_type": "code",
   "execution_count": null,
   "id": "7f2ab923",
   "metadata": {},
   "outputs": [],
   "source": [
    "intervalo_ano = range(2013, 2023)\n",
    "gplot_13_22 = sns.displot(dados_pre_2023.loc[(dados_pre_2023[\"ano\"] >= 2013) & (dados_pre_2023[\"ano\"] <= 2022)], \n",
    "            x=\"ano\",\n",
    "            bins=intervalo_ano,\n",
    "            legend=True,\n",
    "            col=\"bioma\",\n",
    "            col_wrap=3\n",
    "            )\n",
    "gplot_13_22.add_legend()"
   ]
  },
  {
   "cell_type": "markdown",
   "id": "a2d56acd",
   "metadata": {},
   "source": [
    "### 2023 - 2024"
   ]
  },
  {
   "cell_type": "code",
   "execution_count": null,
   "id": "782c0ab1",
   "metadata": {},
   "outputs": [],
   "source": [
    "gplot_2023 = sns.displot(dados_pre_2023.loc[(dados_pre_2023[\"ano\"] == 2023)], \n",
    "            x=\"mes\",\n",
    "            legend=True,\n",
    "            discrete=True,\n",
    "            col=\"bioma\",\n",
    "            col_wrap=3\n",
    "            )\n",
    "gplot_2023.add_legend()"
   ]
  },
  {
   "cell_type": "code",
   "execution_count": null,
   "id": "63803441",
   "metadata": {},
   "outputs": [],
   "source": [
    "gplot_2024 = sns.displot(dados_2024, \n",
    "            x=\"mes\",\n",
    "            legend=True,\n",
    "            discrete=True,\n",
    "            col=\"bioma\",\n",
    "            col_wrap=3\n",
    "            )\n",
    "gplot_2024.add_legend()"
   ]
  },
  {
   "cell_type": "markdown",
   "id": "64aacaf2",
   "metadata": {},
   "source": [
    "## Limpando e analisando dados\n",
    "Aqui eu separo apenas os dados de 2023 e 2024, fazendo análise apenas dos que apresentam dados de:\n",
    "- Dias sem chuva - *dias_sem_chuva*\n",
    "- Precipitação (ml) - *precipitacao*\n",
    "- Risco de Fogo - *risco_fogo*\n",
    "- Potência Radiativa do Fogo (MW) - *potencia_radiativa_fogo*"
   ]
  },
  {
   "cell_type": "markdown",
   "id": "022b5b93",
   "metadata": {},
   "source": [
    "### Removendo valores nulos"
   ]
  },
  {
   "cell_type": "code",
   "execution_count": 7,
   "id": "c9fc327d",
   "metadata": {},
   "outputs": [],
   "source": [
    "clean_2023 = dados_pre_2023.loc[dados_pre_2023.ano == 2023].dropna()\n",
    "clean_2024 = dados_2024.dropna()"
   ]
  },
  {
   "cell_type": "markdown",
   "id": "ffffc163",
   "metadata": {},
   "source": [
    "### Analisando outliers"
   ]
  },
  {
   "cell_type": "code",
   "execution_count": 8,
   "id": "cf83de91",
   "metadata": {},
   "outputs": [
    {
     "data": {
      "text/plain": [
       "<seaborn.axisgrid.FacetGrid at 0x1bd138756a0>"
      ]
     },
     "execution_count": 8,
     "metadata": {},
     "output_type": "execute_result"
    },
    {
     "data": {
      "image/png": "[encoded data removed]",
      "text/plain": [
       "<Figure size 511.111x500 with 1 Axes>"
      ]
     },
     "metadata": {},
     "output_type": "display_data"
    }
   ],
   "source": [
    "sns.catplot(clean_2023, x=\"mes\", y=\"dias_sem_chuva\", kind=\"box\")"
   ]
  },
  {
   "cell_type": "code",
   "execution_count": 9,
   "id": "3d7856a3",
   "metadata": {},
   "outputs": [],
   "source": [
    "outliers_ls = (clean_2023.loc[(clean_2023[\"dias_sem_chuva\"] < 0) | (clean_2023[\"precipitacao\"] < 0)]).index.values\n",
    "clean_2023 = clean_2023.drop(index=outliers_ls)\n",
    "outliers_ls = (clean_2023.loc[(clean_2023[\"risco_fogo\"] < 0) | (clean_2023[\"potencia_radiativa_fogo\"] < 0)]).index.values\n",
    "clean_2023 = clean_2023.drop(index=outliers_ls)\n",
    "outliers_ls = (clean_2023.loc[(clean_2023[\"risco_fogo\"] > 1) | (clean_2023[\"potencia_radiativa_fogo\"] > 1500)]).index.values\n",
    "clean_2023 = clean_2023.drop(index=outliers_ls)"
   ]
  },
  {
   "cell_type": "code",
   "execution_count": 10,
   "id": "dabc01ad",
   "metadata": {},
   "outputs": [
    {
     "data": {
      "text/plain": [
       "<seaborn.axisgrid.FacetGrid at 0x1be52e0b890>"
      ]
     },
     "execution_count": 10,
     "metadata": {},
     "output_type": "execute_result"
    },
    {
     "data": {
      "image/png": "[encoded data removed]",
      "text/plain": [
       "<Figure size 511.111x500 with 1 Axes>"
      ]
     },
     "metadata": {},
     "output_type": "display_data"
    }
   ],
   "source": [
    "sns.catplot(clean_2024, x=\"mes\", y=\"dias_sem_chuva\", kind=\"box\")"
   ]
  },
  {
   "cell_type": "code",
   "execution_count": 11,
   "id": "41ed9b3b",
   "metadata": {},
   "outputs": [],
   "source": [
    "outliers_ls = (clean_2024.loc[(clean_2024[\"dias_sem_chuva\"] < 0) | (clean_2024[\"precipitacao\"] < 0)]).index.values\n",
    "clean_2024 = clean_2024.drop(index=outliers_ls)\n",
    "outliers_ls = (clean_2024.loc[(clean_2024[\"risco_fogo\"] < 0) | (clean_2024[\"potencia_radiativa_fogo\"] < 0)]).index.values\n",
    "clean_2024 = clean_2024.drop(index=outliers_ls)\n",
    "outliers_ls = (clean_2024.loc[(clean_2024[\"risco_fogo\"] > 1) | (clean_2024[\"potencia_radiativa_fogo\"] > 1500)]).index.values\n",
    "clean_2024 = clean_2024.drop(index=outliers_ls)"
   ]
  },
  {
   "cell_type": "markdown",
   "id": "fcd86e60",
   "metadata": {},
   "source": [
    "### Analisando dados (2023)"
   ]
  },
  {
   "cell_type": "markdown",
   "id": "481062f0",
   "metadata": {},
   "source": [
    "#### Relação entre meses e número de queimadas por bioma"
   ]
  },
  {
   "cell_type": "code",
   "execution_count": null,
   "id": "c1609a74",
   "metadata": {},
   "outputs": [],
   "source": [
    "clplot_2023 = sns.displot(clean_2023, \n",
    "            x=\"mes\",\n",
    "            legend=True,\n",
    "            discrete=True,\n",
    "            col=\"bioma\",\n",
    "            col_wrap=3\n",
    "            )\n",
    "clplot_2023.add_legend()"
   ]
  },
  {
   "cell_type": "code",
   "execution_count": 12,
   "id": "b8356616",
   "metadata": {},
   "outputs": [],
   "source": [
    "# Define um novo dataframe apenas com os dados do Cerrado e da Amazônia\n",
    "biomas_2023 = clean_2023.loc[(clean_2023[\"bioma\"].isin([\"Cerrado\", \"Amazônia\"]))]"
   ]
  },
  {
   "cell_type": "markdown",
   "id": "69734bb1",
   "metadata": {},
   "source": [
    "#### Relação entre dias sem chuvas e mês considerando os dois biomas mais atingidos (Cerrado e Amazônia)"
   ]
  },
  {
   "cell_type": "code",
   "execution_count": null,
   "id": "899bfc7a",
   "metadata": {},
   "outputs": [],
   "source": [
    "heat_2023 = sns.displot(biomas_2023,\n",
    "            x=\"mes\",\n",
    "            y=\"dias_sem_chuva\",\n",
    "            legend=True,\n",
    "            discrete=True,\n",
    "            col=\"bioma\",\n",
    "            )\n",
    "heat_2023.add_legend()"
   ]
  },
  {
   "cell_type": "markdown",
   "id": "b4ef0b6e",
   "metadata": {},
   "source": [
    "#### Relação entre dias sem chuva e potência radiativa de fogo"
   ]
  },
  {
   "cell_type": "code",
   "execution_count": null,
   "id": "22c67dde",
   "metadata": {},
   "outputs": [],
   "source": [
    "heat_2023 = sns.displot(biomas_2023,\n",
    "            x=\"potencia_radiativa_fogo\",\n",
    "            y=\"dias_sem_chuva\",\n",
    "            legend=True,\n",
    "            discrete=True,\n",
    "            col=\"bioma\",\n",
    "            )"
   ]
  },
  {
   "cell_type": "code",
   "execution_count": null,
   "id": "20ce4e7f",
   "metadata": {},
   "outputs": [],
   "source": [
    "sns.relplot(biomas_2023, x=\"precipitacao\", y=\"potencia_radiativa_fogo\")"
   ]
  },
  {
   "cell_type": "code",
   "execution_count": null,
   "id": "25489912",
   "metadata": {},
   "outputs": [
    {
     "data": {
      "text/plain": [
       "<seaborn.axisgrid.FacetGrid at 0x1bf19c34690>"
      ]
     },
     "execution_count": 13,
     "metadata": {},
     "output_type": "execute_result"
    }
   ],
   "source": [
    "sns.displot(biomas_2023,\n",
    "            x=\"mes\",\n",
    "            hue=\"potencia_radiativa_fogo\",\n",
    "            legend=True,\n",
    "            discrete=True,\n",
    "            col=\"bioma\",\n",
    "            )"
   ]
  },
  {
   "cell_type": "markdown",
   "id": "dbc8a884",
   "metadata": {},
   "source": [
    "### Analisando dados (2024)"
   ]
  },
  {
   "cell_type": "markdown",
   "id": "3a3ba32e",
   "metadata": {},
   "source": [
    "#### Relação entre meses e número de queimadas por bioma"
   ]
  },
  {
   "cell_type": "code",
   "execution_count": null,
   "id": "c33b3aa3",
   "metadata": {},
   "outputs": [],
   "source": [
    "clplot_2024 = sns.displot(clean_2024, \n",
    "            x=\"mes\",\n",
    "            legend=True,\n",
    "            discrete=True,\n",
    "            col=\"bioma\",\n",
    "            col_wrap=3\n",
    "            )"
   ]
  },
  {
   "cell_type": "code",
   "execution_count": null,
   "id": "63cc50f6",
   "metadata": {},
   "outputs": [],
   "source": [
    "# Define um novo dataframe apenas com os dados do Cerrado e da Amazônia\n",
    "biomas_2024 = clean_2024.loc[(clean_2024[\"bioma\"].isin([\"Cerrado\", \"Amazônia\"]))]"
   ]
  },
  {
   "cell_type": "markdown",
   "id": "e43d4e40",
   "metadata": {},
   "source": [
    "#### Relação entre dias sem chuvas e mês considerando os dois biomas mais atingidos (Cerrado e Amazônia)"
   ]
  },
  {
   "cell_type": "code",
   "execution_count": null,
   "id": "dba7bce2",
   "metadata": {},
   "outputs": [],
   "source": [
    "mes_2024 = sns.displot(biomas_2024,\n",
    "            x=\"mes\",\n",
    "            y=\"dias_sem_chuva\",\n",
    "            legend=True,\n",
    "            discrete=True,\n",
    "            col=\"bioma\",\n",
    "            )\n",
    "mes_2024.add_legend()"
   ]
  },
  {
   "cell_type": "markdown",
   "id": "64b8ff04",
   "metadata": {},
   "source": [
    "#### Relação entre dias sem chuva e potência radiativa de fogo"
   ]
  },
  {
   "cell_type": "code",
   "execution_count": null,
   "id": "178a8a6e",
   "metadata": {},
   "outputs": [],
   "source": [
    "heat_2023 = sns.displot(biomas_2024,\n",
    "            x=\"potencia_radiativa_fogo\",\n",
    "            y=\"dias_sem_chuva\",\n",
    "            legend=True,\n",
    "            discrete=True,\n",
    "            col=\"bioma\",\n",
    "            )"
   ]
  },
  {
   "cell_type": "code",
   "execution_count": null,
   "id": "b3c3deaf",
   "metadata": {},
   "outputs": [],
   "source": [
    "sns.relplot(biomas_2024, x=\"precipitacao\", y=\"potencia_radiativa_fogo\")"
   ]
  },
  {
   "cell_type": "code",
   "execution_count": null,
   "id": "91e86b87",
   "metadata": {},
   "outputs": [],
   "source": [
    "sns.displot(biomas_2024,\n",
    "            x=\"mes\",\n",
    "            hue=\"potencia_radiativa_fogo\",\n",
    "            legend=True,\n",
    "            discrete=True,\n",
    "            col=\"bioma\",\n",
    "            )"
   ]
  }
 ],
 "metadata": {
  "kernelspec": {
   "display_name": "Python 3",
   "language": "python",
   "name": "python3"
  },
  "language_info": {
   "codemirror_mode": {
    "name": "ipython",
    "version": 3
   },
   "file_extension": ".py",
   "mimetype": "text/x-python",
   "name": "python",
   "nbconvert_exporter": "python",
   "pygments_lexer": "ipython3",
   "version": "3.13.2"
  }
 },
 "nbformat": 4,
 "nbformat_minor": 5
}
